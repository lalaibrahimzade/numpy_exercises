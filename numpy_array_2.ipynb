{
 "cells": [
  {
   "cell_type": "code",
   "execution_count": 19,
   "id": "156587e5-f0dd-44fc-ae2f-3d8fddfc771f",
   "metadata": {},
   "outputs": [],
   "source": [
    "import numpy as np"
   ]
  },
  {
   "cell_type": "code",
   "execution_count": 4,
   "id": "ded5c683-c66a-4813-9543-9746f61c92f6",
   "metadata": {},
   "outputs": [
    {
     "data": {
      "text/plain": [
       "array([0, 1, 2, 3, 4, 5, 6, 7])"
      ]
     },
     "execution_count": 4,
     "metadata": {},
     "output_type": "execute_result"
    }
   ],
   "source": [
    "np.arange(0,8)"
   ]
  },
  {
   "cell_type": "code",
   "execution_count": 10,
   "id": "c004606b-89cf-44b2-b49b-aa6e33e4041d",
   "metadata": {},
   "outputs": [
    {
     "data": {
      "text/plain": [
       "array([0, 2, 4, 6])"
      ]
     },
     "execution_count": 10,
     "metadata": {},
     "output_type": "execute_result"
    }
   ],
   "source": [
    "np.arange(0,8,2)"
   ]
  },
  {
   "cell_type": "code",
   "execution_count": 11,
   "id": "05d0466a-2343-4ced-be40-9f0bdcef3d58",
   "metadata": {},
   "outputs": [
    {
     "data": {
      "text/plain": [
       "array([8, 6, 4, 2])"
      ]
     },
     "execution_count": 11,
     "metadata": {},
     "output_type": "execute_result"
    }
   ],
   "source": [
    "np.arange(8,0,-2)"
   ]
  },
  {
   "cell_type": "code",
   "execution_count": 12,
   "id": "c748891c-8ccf-4232-af01-8eee8c6b2145",
   "metadata": {},
   "outputs": [
    {
     "data": {
      "text/plain": [
       "array([13, 10,  7,  4])"
      ]
     },
     "execution_count": 12,
     "metadata": {},
     "output_type": "execute_result"
    }
   ],
   "source": [
    "np.arange(13,1,-3)"
   ]
  },
  {
   "cell_type": "code",
   "execution_count": 14,
   "id": "53f19540-7b89-432c-9027-ab557d8b1f40",
   "metadata": {},
   "outputs": [
    {
     "data": {
      "text/plain": [
       "array([13, 10,  7])"
      ]
     },
     "execution_count": 14,
     "metadata": {},
     "output_type": "execute_result"
    }
   ],
   "source": [
    "np.arange(13,4,-3)"
   ]
  },
  {
   "cell_type": "code",
   "execution_count": 15,
   "id": "d794c363-ec0b-454f-b6ef-c34760616260",
   "metadata": {},
   "outputs": [
    {
     "data": {
      "text/plain": [
       "array([1.        , 1.02040816, 1.04081633, 1.06122449, 1.08163265,\n",
       "       1.10204082, 1.12244898, 1.14285714, 1.16326531, 1.18367347,\n",
       "       1.20408163, 1.2244898 , 1.24489796, 1.26530612, 1.28571429,\n",
       "       1.30612245, 1.32653061, 1.34693878, 1.36734694, 1.3877551 ,\n",
       "       1.40816327, 1.42857143, 1.44897959, 1.46938776, 1.48979592,\n",
       "       1.51020408, 1.53061224, 1.55102041, 1.57142857, 1.59183673,\n",
       "       1.6122449 , 1.63265306, 1.65306122, 1.67346939, 1.69387755,\n",
       "       1.71428571, 1.73469388, 1.75510204, 1.7755102 , 1.79591837,\n",
       "       1.81632653, 1.83673469, 1.85714286, 1.87755102, 1.89795918,\n",
       "       1.91836735, 1.93877551, 1.95918367, 1.97959184, 2.        ])"
      ]
     },
     "execution_count": 15,
     "metadata": {},
     "output_type": "execute_result"
    }
   ],
   "source": [
    "np.linspace(1,2)"
   ]
  },
  {
   "cell_type": "code",
   "execution_count": 16,
   "id": "58954dde-2919-404b-bac1-88e0f837c234",
   "metadata": {},
   "outputs": [
    {
     "data": {
      "text/plain": [
       "array([1. , 1.5, 2. ])"
      ]
     },
     "execution_count": 16,
     "metadata": {},
     "output_type": "execute_result"
    }
   ],
   "source": [
    "np.linspace(1,2,num=3)"
   ]
  },
  {
   "cell_type": "code",
   "execution_count": 23,
   "id": "7131505f-3d7e-412a-86d0-be77e938d91f",
   "metadata": {},
   "outputs": [
    {
     "data": {
      "text/plain": [
       "array([1.        , 1.33333333, 1.66666667])"
      ]
     },
     "execution_count": 23,
     "metadata": {},
     "output_type": "execute_result"
    }
   ],
   "source": [
    "np.linspace(1, 2, num=3, endpoint=False)"
   ]
  },
  {
   "cell_type": "code",
   "execution_count": 24,
   "id": "d0edeeb5-7f79-4eff-aff7-edacafab3206",
   "metadata": {},
   "outputs": [
    {
     "data": {
      "text/plain": [
       "array([[-0.55145882,  1.05720496, -0.80542211, -0.12865282,  0.34581578],\n",
       "       [-0.27592003,  0.68382331,  2.3599667 ,  0.90721168,  1.45813472],\n",
       "       [ 0.13820172,  0.28465965,  1.95138704, -0.04754834, -1.11783839],\n",
       "       [-0.54217872, -1.06218122, -0.25997193,  0.8788076 , -0.79783532]])"
      ]
     },
     "execution_count": 24,
     "metadata": {},
     "output_type": "execute_result"
    }
   ],
   "source": [
    "np.random.normal(0,1,(4,5))"
   ]
  },
  {
   "cell_type": "code",
   "execution_count": 25,
   "id": "c00c7ee1-1fa1-48e2-b18a-2d96f687e33a",
   "metadata": {},
   "outputs": [
    {
     "data": {
      "text/plain": [
       "array([[ 111.62215481, -101.27086963, -108.44406841,   16.50810852,\n",
       "         115.80344037],\n",
       "       [ -44.31932375,  -57.47742107, -226.62180482,    0.34725199,\n",
       "          80.43330569],\n",
       "       [-157.58636636,  116.677666  ,  -62.76728143,  139.72086428,\n",
       "         128.1197059 ],\n",
       "       [-135.17054068,  159.39775267,   45.37774917,  -28.82577833,\n",
       "         163.99238522]])"
      ]
     },
     "execution_count": 25,
     "metadata": {},
     "output_type": "execute_result"
    }
   ],
   "source": [
    "np.random.normal(0,100,(4,5))"
   ]
  },
  {
   "cell_type": "code",
   "execution_count": 26,
   "id": "6df8e964-dfe3-489a-a948-f1585ce9f7ed",
   "metadata": {},
   "outputs": [
    {
     "data": {
      "text/plain": [
       "array([[ 9.30519417, 10.27578977,  8.55445029, 10.17250993,  9.58383001],\n",
       "       [ 8.82286791, 10.57119216, 10.99180665, 11.41147884,  9.82806906],\n",
       "       [ 9.01087307,  9.92116793,  9.94448074,  9.15193089,  9.02201786],\n",
       "       [10.87398303,  8.06550616,  9.93417749, 10.07657684, 10.9061442 ]])"
      ]
     },
     "execution_count": 26,
     "metadata": {},
     "output_type": "execute_result"
    }
   ],
   "source": [
    "np.random.normal(10,1,(4,5))"
   ]
  },
  {
   "cell_type": "code",
   "execution_count": 27,
   "id": "fd0eece1-856b-492e-bc10-1b29d1d09c20",
   "metadata": {},
   "outputs": [
    {
     "data": {
      "text/plain": [
       "array([[  85.33929438,   62.94535564,  -59.77469637,   77.80786692,\n",
       "         -48.45245109],\n",
       "       [  -4.91990526,   98.15319253,   43.71863568, -104.58576143,\n",
       "        -121.03100461],\n",
       "       [-146.21107322, -122.46990636,  -43.91105187,    4.5913154 ,\n",
       "           6.5585002 ],\n",
       "       [  12.82690043,  114.4778104 ,   67.85245714,   27.51375529,\n",
       "           3.02989378]])"
      ]
     },
     "execution_count": 27,
     "metadata": {},
     "output_type": "execute_result"
    }
   ],
   "source": [
    "np.random.normal(10,100,(4,5))"
   ]
  },
  {
   "cell_type": "code",
   "execution_count": 29,
   "id": "f1bf703e-ee2d-493f-91cc-35d05c9b23be",
   "metadata": {},
   "outputs": [
    {
     "data": {
      "text/plain": [
       "array([[10,  5,  7],\n",
       "       [14, 13, 14],\n",
       "       [ 7,  6,  6]], dtype=int32)"
      ]
     },
     "execution_count": 29,
     "metadata": {},
     "output_type": "execute_result"
    }
   ],
   "source": [
    "np.random.randint(5,15,(3,3))"
   ]
  },
  {
   "cell_type": "code",
   "execution_count": 30,
   "id": "09752a4e-2625-42b5-9bf2-2986f76ee6b0",
   "metadata": {},
   "outputs": [
    {
     "data": {
      "text/plain": [
       "array([[[ 5,  7],\n",
       "        [14, 13],\n",
       "        [ 8,  7]],\n",
       "\n",
       "       [[11, 13],\n",
       "        [12,  6],\n",
       "        [ 8, 10]],\n",
       "\n",
       "       [[ 6, 10],\n",
       "        [10, 10],\n",
       "        [11,  7]]], dtype=int32)"
      ]
     },
     "execution_count": 30,
     "metadata": {},
     "output_type": "execute_result"
    }
   ],
   "source": [
    "np.random.randint(5,15,(3,3,2))"
   ]
  },
  {
   "cell_type": "code",
   "execution_count": 32,
   "id": "8e636cea-9856-490c-90e9-097028533f96",
   "metadata": {},
   "outputs": [
    {
     "data": {
      "text/plain": [
       "1"
      ]
     },
     "execution_count": 32,
     "metadata": {},
     "output_type": "execute_result"
    }
   ],
   "source": [
    "np.random.randint(1,2)"
   ]
  },
  {
   "cell_type": "code",
   "execution_count": 43,
   "id": "760d4ca0-b1e4-4374-9abf-bc0c62f4ff46",
   "metadata": {},
   "outputs": [],
   "source": [
    "d={}\n",
    "for _ in range(20000):\n",
    "    val=np.random.randint(5,15)\n",
    "    if val not in d:\n",
    "        d[val]=1\n",
    "    else:\n",
    "        d[val]+=1    "
   ]
  },
  {
   "cell_type": "code",
   "execution_count": 44,
   "id": "5a72abf5-6edc-4966-98d9-932b5179adca",
   "metadata": {},
   "outputs": [
    {
     "data": {
      "text/plain": [
       "{14: 2022,\n",
       " 9: 2019,\n",
       " 6: 2009,\n",
       " 5: 1998,\n",
       " 11: 1894,\n",
       " 8: 1998,\n",
       " 13: 1892,\n",
       " 7: 2091,\n",
       " 12: 2010,\n",
       " 10: 2067}"
      ]
     },
     "execution_count": 44,
     "metadata": {},
     "output_type": "execute_result"
    }
   ],
   "source": [
    "d"
   ]
  },
  {
   "cell_type": "code",
   "execution_count": 45,
   "id": "f4efc41b-e9c7-44d2-8db9-c3416c2af9da",
   "metadata": {},
   "outputs": [
    {
     "data": {
      "text/plain": [
       "array([[1., 0., 0.],\n",
       "       [0., 1., 0.],\n",
       "       [0., 0., 1.]])"
      ]
     },
     "execution_count": 45,
     "metadata": {},
     "output_type": "execute_result"
    }
   ],
   "source": [
    "np.eye(3,3)"
   ]
  },
  {
   "cell_type": "code",
   "execution_count": 46,
   "id": "8dd5a01e-40fc-4020-a7ac-c63f7393dfae",
   "metadata": {},
   "outputs": [
    {
     "data": {
      "text/plain": [
       "array([[1., 0., 0., 0.],\n",
       "       [0., 1., 0., 0.],\n",
       "       [0., 0., 1., 0.]])"
      ]
     },
     "execution_count": 46,
     "metadata": {},
     "output_type": "execute_result"
    }
   ],
   "source": [
    "np.eye(3,4)"
   ]
  },
  {
   "cell_type": "code",
   "execution_count": 48,
   "id": "d5839698-5a26-43ab-a01b-c885afd44378",
   "metadata": {},
   "outputs": [
    {
     "data": {
      "text/plain": [
       "array([ 33,  88, 165])"
      ]
     },
     "execution_count": 48,
     "metadata": {},
     "output_type": "execute_result"
    }
   ],
   "source": [
    "x=np.array([1,2,3])\n",
    "y=np.array([33,44,55])\n",
    "x*y"
   ]
  },
  {
   "cell_type": "code",
   "execution_count": 49,
   "id": "42dc3e27-8a8c-4a3e-a4cf-1a3c653e8621",
   "metadata": {},
   "outputs": [
    {
     "ename": "ValueError",
     "evalue": "operands could not be broadcast together with shapes (4,) (3,) ",
     "output_type": "error",
     "traceback": [
      "\u001b[1;31m---------------------------------------------------------------------------\u001b[0m",
      "\u001b[1;31mValueError\u001b[0m                                Traceback (most recent call last)",
      "Cell \u001b[1;32mIn[49], line 3\u001b[0m\n\u001b[0;32m      1\u001b[0m z\u001b[38;5;241m=\u001b[39mnp\u001b[38;5;241m.\u001b[39marray([\u001b[38;5;241m1\u001b[39m,\u001b[38;5;241m2\u001b[39m,\u001b[38;5;241m3\u001b[39m,\u001b[38;5;241m4\u001b[39m])\n\u001b[0;32m      2\u001b[0m q\u001b[38;5;241m=\u001b[39mnp\u001b[38;5;241m.\u001b[39marray([\u001b[38;5;241m33\u001b[39m,\u001b[38;5;241m44\u001b[39m,\u001b[38;5;241m55\u001b[39m])\n\u001b[1;32m----> 3\u001b[0m \u001b[43mz\u001b[49m\u001b[38;5;241;43m*\u001b[39;49m\u001b[43mq\u001b[49m\n",
      "\u001b[1;31mValueError\u001b[0m: operands could not be broadcast together with shapes (4,) (3,) "
     ]
    }
   ],
   "source": [
    "z=np.array([1,2,3,4])\n",
    "q=np.array([33,44,55])\n",
    "z*q"
   ]
  },
  {
   "cell_type": "code",
   "execution_count": 50,
   "id": "e79dde43-3edd-4009-b804-22b96faed126",
   "metadata": {},
   "outputs": [
    {
     "data": {
      "text/plain": [
       "array([34, 46, 58])"
      ]
     },
     "execution_count": 50,
     "metadata": {},
     "output_type": "execute_result"
    }
   ],
   "source": [
    "x+y"
   ]
  },
  {
   "cell_type": "code",
   "execution_count": null,
   "id": "26006dd1-52c2-41ee-8e14-31b2aff82024",
   "metadata": {},
   "outputs": [],
   "source": []
  }
 ],
 "metadata": {
  "kernelspec": {
   "display_name": "Python 3 (ipykernel)",
   "language": "python",
   "name": "python3"
  },
  "language_info": {
   "codemirror_mode": {
    "name": "ipython",
    "version": 3
   },
   "file_extension": ".py",
   "mimetype": "text/x-python",
   "name": "python",
   "nbconvert_exporter": "python",
   "pygments_lexer": "ipython3",
   "version": "3.11.4"
  }
 },
 "nbformat": 4,
 "nbformat_minor": 5
}
